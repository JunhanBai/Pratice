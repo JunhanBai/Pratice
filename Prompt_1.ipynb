{
  "nbformat": 4,
  "nbformat_minor": 0,
  "metadata": {
    "colab": {
      "provenance": [],
      "authorship_tag": "ABX9TyPZ7YkeDKRGtVeWv8mLAvpd",
      "include_colab_link": true
    },
    "kernelspec": {
      "name": "python3",
      "display_name": "Python 3"
    },
    "language_info": {
      "name": "python"
    }
  },
  "cells": [
    {
      "cell_type": "markdown",
      "metadata": {
        "id": "view-in-github",
        "colab_type": "text"
      },
      "source": [
        "<a href=\"https://colab.research.google.com/github/JunhanBai/Pratice/blob/main/Prompt_1.ipynb\" target=\"_parent\"><img src=\"https://colab.research.google.com/assets/colab-badge.svg\" alt=\"Open In Colab\"/></a>"
      ]
    },
    {
      "cell_type": "code",
      "source": [
        "# --- Prompt templates (what you'd send to an LLM) ---\n",
        "CLASSIFY_PROMPT = \"\"\"\n",
        "You are a support assistant. Classify the customer's intent into one of:\n",
        "[order_status, refund_request, product_question, other]\n",
        "Customer message: \"{message}\"\n",
        "Return only the intent.\n",
        "\"\"\"\n",
        "\n",
        "EXTRACT_PROMPT = \"\"\"\n",
        "You are a data extractor for support tickets.\n",
        "Given intent \"{intent}\" and message \"{message}\",\n",
        "return a JSON-like dict with keys: order_id (if any), product (if any), sentiment (positive/neutral/negative).\n",
        "\"\"\"\n",
        "\n",
        "RESPOND_PROMPT = \"\"\"\n",
        "You are a friendly support agent. Using details {details} and intent \"{intent}\",\n",
        "write a short, empathetic reply (<= 80 words) with a clear next step.\n",
        "\"\"\"\n",
        "\n",
        "# --- Minimal \"mock LLM\" so this runs without API keys ---\n",
        "import re\n",
        "\n",
        "def mock_llm_classify(message: str) -> str:\n",
        "    m = message.lower()\n",
        "    if any(k in m for k in [\"refund\",\"return\",\"exchange\",\"money back\"]): return \"refund_request\"\n",
        "    if any(k in m for k in [\"track\",\"where is\",\"hasn't arrived\",\"order\",\"package\"]): return \"order_status\"\n",
        "    if any(k in m for k in [\"size\",\"color\",\"compatible\",\"spec\",\"does it work with\"]): return \"product_question\"\n",
        "    return \"other\"\n",
        "\n",
        "def mock_llm_extract(intent: str, message: str) -> dict:\n",
        "    # naive order id: five digits or \"#12345\"\n",
        "    m = re.search(r\"(?:order|#)\\s*(\\d{5})\", message, flags=re.I)\n",
        "    order_id = m.group(1) if m else None\n",
        "    product = None\n",
        "    pm = re.search(r\"\\b(my|the)\\s+([A-Za-z0-9\\- ]{3,30})\", message)\n",
        "    if pm: product = pm.group(2).strip()\n",
        "    sentiment = \"negative\" if any(w in message.lower() for w in [\"angry\",\"upset\",\"annoy\",\"late\",\"broken\",\"hasn't\"]) else \"neutral\"\n",
        "    return {\"order_id\": order_id, \"product\": product, \"sentiment\": sentiment}\n",
        "\n",
        "def mock_llm_respond(intent: str, details: dict) -> str:\n",
        "    if intent == \"order_status\":\n",
        "        if details.get(\"order_id\"):\n",
        "            return (f\"Thanks for checking in! I found order #{details['order_id']}. \"\n",
        "                    \"It’s in transit; deliveries can take up to 5 business days. \"\n",
        "                    \"If it still hasn’t arrived after that, reply here and I’ll escalate.\")\n",
        "        return \"Happy to help with tracking. Could you share your 5-digit order number so I can look it up?\"\n",
        "    if intent == \"refund_request\":\n",
        "        prod = details.get(\"product\") or \"item\"\n",
        "        return (f\"I’m sorry your {prod} isn’t working out. We accept returns within 30 days. \"\n",
        "                \"Please share your order number and I’ll send a prepaid return label.\")\n",
        "    if intent == \"product_question\":\n",
        "        return (\"Great question! Could you share the product model and how you plan to use it? \"\n",
        "                \"I’ll confirm compatibility and recommend the best option.\")\n",
        "    return \"Thanks for reaching out! Tell me a bit more about what you need and I’ll point you in the right direction.\"\n",
        "\n",
        "# --- Orchestrator (the chain) ---\n",
        "def run_chain(message: str) -> dict:\n",
        "    intent = mock_llm_classify(message)  # Step 1\n",
        "    details = mock_llm_extract(intent, message)  # Step 2\n",
        "    reply = mock_llm_respond(intent, details)  # Step 3\n",
        "    # Keep the filled prompts so you can see the chain \"inputs\"\n",
        "    return {\n",
        "        \"filled_prompts\": {\n",
        "            \"classify\": CLASSIFY_PROMPT.format(message=message),\n",
        "            \"extract\": EXTRACT_PROMPT.format(intent=intent, message=message),\n",
        "            \"respond\": RESPOND_PROMPT.format(intent=intent, details=details),\n",
        "        },\n",
        "        \"intent\": intent,\n",
        "        \"details\": details,\n",
        "        \"reply\": reply\n",
        "    }\n",
        "\n",
        "# --- Quick demos ---\n",
        "examples = [\n",
        "    \"Hi, my order #10234 hasn't arrived yet. Can you check?\",\n",
        "    \"I want to return my headphones—they stopped working.\",\n",
        "    \"Is the charger compatible with the X200 laptop?\"\n",
        "]\n",
        "\n",
        "for msg in examples:\n",
        "    out = run_chain(msg)\n",
        "    print(\"\\nMessage:\", msg)\n",
        "    print(\"Intent:\", out[\"intent\"])\n",
        "    print(\"Details:\", out[\"details\"])\n",
        "    print(\"Reply:\", out[\"reply\"])\n"
      ],
      "metadata": {
        "id": "aCCNcAXWnSug",
        "colab": {
          "base_uri": "https://localhost:8080/"
        },
        "outputId": "a10f3ab3-67c2-43f7-869e-8f9d1b7346ae"
      },
      "execution_count": 1,
      "outputs": [
        {
          "output_type": "stream",
          "name": "stdout",
          "text": [
            "\n",
            "Message: Hi, my order #10234 hasn't arrived yet. Can you check?\n",
            "Intent: order_status\n",
            "Details: {'order_id': '10234', 'product': 'order', 'sentiment': 'negative'}\n",
            "Reply: Thanks for checking in! I found order #10234. It’s in transit; deliveries can take up to 5 business days. If it still hasn’t arrived after that, reply here and I’ll escalate.\n",
            "\n",
            "Message: I want to return my headphones—they stopped working.\n",
            "Intent: refund_request\n",
            "Details: {'order_id': None, 'product': 'headphones', 'sentiment': 'neutral'}\n",
            "Reply: I’m sorry your headphones isn’t working out. We accept returns within 30 days. Please share your order number and I’ll send a prepaid return label.\n",
            "\n",
            "Message: Is the charger compatible with the X200 laptop?\n",
            "Intent: product_question\n",
            "Details: {'order_id': None, 'product': 'charger compatible with the X2', 'sentiment': 'neutral'}\n",
            "Reply: Great question! Could you share the product model and how you plan to use it? I’ll confirm compatibility and recommend the best option.\n"
          ]
        }
      ]
    }
  ]
}