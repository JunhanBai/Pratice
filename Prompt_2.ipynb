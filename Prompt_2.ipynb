{
  "cells": [
    {
      "cell_type": "markdown",
      "metadata": {
        "id": "view-in-github",
        "colab_type": "text"
      },
      "source": [
        "<a href=\"https://colab.research.google.com/github/JunhanBai/Pratice/blob/main/Prompt_2.ipynb\" target=\"_parent\"><img src=\"https://colab.research.google.com/assets/colab-badge.svg\" alt=\"Open In Colab\"/></a>"
      ]
    },
    {
      "cell_type": "code",
      "execution_count": 5,
      "id": "ea2eff3c",
      "metadata": {
        "id": "ea2eff3c"
      },
      "outputs": [],
      "source": [
        "REACT_TEMPLATE = '''\\\n",
        "You are a Python coding assistant. Use the ReAct pattern to solve the task.\n",
        "\n",
        "Task: {task}\n",
        "\n",
        "You can use these tools:\n",
        "- PythonREPL(code): executes Python and returns stdout/stderr or exceptions\n",
        "- Tests(code): runs predefined unit tests against `code` and returns a summary\n",
        "\n",
        "Follow this format exactly:\n",
        "Thought: reason step-by-step about the plan.\n",
        "Action: <PythonREPL or Tests>\n",
        "Action Input: <the code or nothing>\n",
        "Observation: <the tool output>\n",
        "\n",
        "(Repeat Thought/Action/Action Input/Observation as needed.)\n",
        "When confident the code passes tests, finish with:\n",
        "Final Answer: <ONLY the final Python code, no backticks>\n",
        "'''"
      ]
    },
    {
      "cell_type": "code",
      "execution_count": 6,
      "id": "ee2c77b2",
      "metadata": {
        "id": "ee2c77b2"
      },
      "outputs": [],
      "source": [
        "import sys, io, traceback\n",
        "\n",
        "def PythonREPL(code: str):\n",
        "    ns = {}\n",
        "    out, err = io.StringIO(), io.StringIO()\n",
        "    old_out, old_err = sys.stdout, sys.stderr\n",
        "    try:\n",
        "        sys.stdout, sys.stderr = out, err\n",
        "        exec(compile(code, '<PythonREPL>', 'exec'), ns, ns)\n",
        "        return {'ok': True, 'stdout': out.getvalue(), 'stderr': err.getvalue(), 'ns': ns}\n",
        "    except Exception as e:\n",
        "        tb = traceback.format_exc()\n",
        "        return {'ok': False, 'error': str(e), 'traceback': tb, 'stdout': out.getvalue(), 'stderr': err.getvalue()}\n",
        "    finally:\n",
        "        sys.stdout, sys.stderr = old_out, old_err\n",
        "\n",
        "def Tests(code: str, test_fn):\n",
        "    ns = {}\n",
        "    exec(compile(code, '<solution>', 'exec'), ns, ns)\n",
        "    try:\n",
        "        summary = test_fn(ns)\n",
        "        return {'ok': True, 'summary': summary}\n",
        "    except AssertionError as e:\n",
        "        return {'ok': False, 'summary': str(e)}"
      ]
    },
    {
      "cell_type": "code",
      "execution_count": 7,
      "id": "604a5a21",
      "metadata": {
        "id": "604a5a21"
      },
      "outputs": [],
      "source": [
        "from dataclasses import dataclass, field\n",
        "from typing import List, Dict, Any, Callable\n",
        "\n",
        "@dataclass\n",
        "class TraceStep:\n",
        "    thought: str\n",
        "    action: str\n",
        "    action_input: str\n",
        "    observation: str\n",
        "\n",
        "@dataclass\n",
        "class ReActResult:\n",
        "    final_code: str\n",
        "    passed: bool\n",
        "    test_summary: str\n",
        "    trace: List[TraceStep] = field(default_factory=list)\n",
        "\n",
        "def default_planner(task: str) -> str:\n",
        "    task_l = task.lower()\n",
        "    if 'top' in task_l and 'words' in task_l:\n",
        "        return (\n",
        "            \"import re\\n\"\n",
        "            \"from collections import Counter\\n\\n\"\n",
        "            \"def top_k_words(text, k):\\n\"\n",
        "            \"    tokens = re.findall(r\\\"[a-z0-9']+\\\", text.lower())\\n\"\n",
        "            \"    counts = Counter(tokens)\\n\"\n",
        "            \"    return [w for w,_ in counts.most_common(k)]\\n\"\n",
        "        )\n",
        "    # Fallback: fizzbuzz\n",
        "    return (\n",
        "        \"def fizzbuzz(n):\\n\"\n",
        "        \"    out = []\\n\"\n",
        "        \"    for i in range(1, n+1):\\n\"\n",
        "        \"        if i % 15 == 0: out.append('FizzBuzz')\\n\"\n",
        "        \"        elif i % 3 == 0: out.append('Fizz')\\n\"\n",
        "        \"        elif i % 5 == 0: out.append('Buzz')\\n\"\n",
        "        \"        else: out.append(str(i))\\n\"\n",
        "        \"    return out\\n\"\n",
        "    )\n",
        "\n",
        "def patcher(original_code: str, feedback: str) -> str:\n",
        "    # Simple example: no-op patcher, extend as needed based on feedback\n",
        "    return original_code\n",
        "\n",
        "def run_react(task: str, test_fn: Callable[[Dict[str, Any]], str]) -> ReActResult:\n",
        "    trace: List[TraceStep] = []\n",
        "    thought1 = 'Plan: generate initial solution, then run tests; patch if needed.'\n",
        "    code1 = default_planner(task)\n",
        "    obs1 = PythonREPL(code1)\n",
        "    trace.append(TraceStep(thought1, 'PythonREPL', code1[:160], str(obs1)[:180]))\n",
        "    obs2 = Tests(code1, test_fn)\n",
        "    trace.append(TraceStep('Run tests on initial solution', 'Tests', '<solution>', str(obs2)))\n",
        "    if obs2['ok']:\n",
        "        return ReActResult(final_code=code1, passed=True, test_summary=str(obs2['summary']), trace=trace)\n",
        "    thought3 = f\"Tests failed; feedback: {obs2['summary']} — patch code and retry.\"\n",
        "    code2 = patcher(code1, obs2['summary'])\n",
        "    obs3 = PythonREPL(code2)\n",
        "    trace.append(TraceStep(thought3, 'PythonREPL', code2[:160], str(obs3)[:180]))\n",
        "    obs4 = Tests(code2, test_fn)\n",
        "    trace.append(TraceStep('Re-run tests after patch', 'Tests', '<patched>', str(obs4)))\n",
        "    return ReActResult(final_code=code2 if obs4['ok'] else code1,\n",
        "                       passed=bool(obs4['ok']),\n",
        "                       test_summary=str(obs4['summary']),\n",
        "                       trace=trace)"
      ]
    },
    {
      "cell_type": "code",
      "execution_count": 8,
      "id": "383998d0",
      "metadata": {
        "id": "383998d0",
        "outputId": "35409b8d-7217-44ab-849a-bc7ed1bec73b",
        "colab": {
          "base_uri": "https://localhost:8080/"
        }
      },
      "outputs": [
        {
          "output_type": "stream",
          "name": "stdout",
          "text": [
            "Passed: True\n",
            "Test Summary: All tests passed.\n",
            "\n",
            "Thought: Plan: generate initial solution, then run tests; patch if needed.\n",
            "Action: PythonREPL\n",
            "Observation: {'ok': True, 'stdout': '', 'stderr': '', 'ns': {'__builtins__': {'__name__': 'builtins', '__doc__': \"Built-in functions, types, exceptions, and other objects.\\n\\nThis module provid\n",
            "\n",
            "Thought: Run tests on initial solution\n",
            "Action: Tests\n",
            "Observation: {'ok': True, 'summary': 'All tests passed.'}\n"
          ]
        }
      ],
      "source": [
        "TASK = (\n",
        "    \"Write a function `top_k_words(text, k)` that returns the top-k most frequent words. \"\n",
        "    \"Ignore case and punctuation (treat `can't` as one token). If counts tie, any order is fine.\"\n",
        ")\n",
        "\n",
        "def tests_wordcount(ns):\n",
        "    fn = ns.get('top_k_words')\n",
        "    assert callable(fn), 'Function `top_k_words` not defined.'\n",
        "    assert fn('A a a b b c', 2) == ['a', 'b']\n",
        "    o = fn(\"Can't stop, won't stop! Can't STOP.\", 2)\n",
        "    assert set(o) == {\"can't\", 'stop'}, 'Should count words ignoring case and punctuation.'\n",
        "    o2 = fn('Red fish, blue fish. Red fish!', 1)\n",
        "    assert o2 in (['fish'], ['red']), 'Fish or Red can top; both valid.'\n",
        "    return 'All tests passed.'\n",
        "\n",
        "res = run_react(TASK, tests_wordcount)\n",
        "print('Passed:', res.passed)\n",
        "print('Test Summary:', res.test_summary)\n",
        "for step in res.trace:\n",
        "    print('\\nThought:', step.thought)\n",
        "    print('Action:', step.action)\n",
        "    print('Observation:', step.observation[:200])"
      ]
    }
  ],
  "metadata": {
    "colab": {
      "provenance": [],
      "include_colab_link": true
    },
    "language_info": {
      "name": "python"
    },
    "kernelspec": {
      "name": "python3",
      "display_name": "Python 3"
    }
  },
  "nbformat": 4,
  "nbformat_minor": 5
}