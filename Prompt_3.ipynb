{
  "cells": [
    {
      "cell_type": "markdown",
      "metadata": {
        "id": "view-in-github",
        "colab_type": "text"
      },
      "source": [
        "<a href=\"https://colab.research.google.com/github/JunhanBai/Pratice/blob/main/Prompt_3.ipynb\" target=\"_parent\"><img src=\"https://colab.research.google.com/assets/colab-badge.svg\" alt=\"Open In Colab\"/></a>"
      ]
    },
    {
      "cell_type": "code",
      "execution_count": null,
      "id": "c7c215bd",
      "metadata": {
        "id": "c7c215bd"
      },
      "outputs": [],
      "source": [
        "SUMMARY_PROMPT = '''\\\n",
        "You are a precise summarizer. Given the text below, produce a concise summary in 3–5 sentences.\n",
        "Requirements: capture the main claim, the key supporting points, and any concrete figures or timelines.\n",
        "Avoid opinions, avoid filler, and do not invent facts.\n",
        "\n",
        "Text:\n",
        "{text}\n",
        "'''\n",
        "\n",
        "CRITIQUE_PROMPT = '''\\\n",
        "You are a careful reviewer. Critique the summary using the rubric below, then suggest concrete edits.\n",
        "Rubric (0–2 each): Relevance, Coherence, Accuracy, Completeness, Clarity.\n",
        "- Identify missing points, redundancies, vague wording, and any potential hallucinations.\n",
        "- Provide bullet-pointed suggestions; be specific and actionable.\n",
        "\n",
        "Original Text (reference):\n",
        "{text}\n",
        "\n",
        "Model Summary (to critique):\n",
        "{summary}\n",
        "'''\n",
        "\n",
        "IMPROVE_PROMPT = '''\\\n",
        "You are a senior editor. Rewrite the summary by applying the critique items below.\n",
        "Constraints: 3–5 sentences; factual; concrete; neutral tone.\n",
        "If a fact isn't in the original text, omit it.\n",
        "\n",
        "Original Text (reference):\n",
        "{text}\n",
        "\n",
        "Critique items:\n",
        "{critique}\n",
        "\n",
        "Produce ONLY the improved summary.\n",
        "'''\n",
        "print('Loaded SUMMARY_PROMPT, CRITIQUE_PROMPT, IMPROVE_PROMPT')"
      ]
    },
    {
      "cell_type": "markdown",
      "id": "0de567fd",
      "metadata": {
        "id": "0de567fd"
      },
      "source": [
        "## Deterministic helpers (simulate LLM behavior offline)"
      ]
    },
    {
      "cell_type": "code",
      "execution_count": null,
      "id": "2153680f",
      "metadata": {
        "id": "2153680f"
      },
      "outputs": [],
      "source": [
        "import re, textwrap\n",
        "from collections import Counter\n",
        "from typing import Dict\n",
        "\n",
        "def _sentences(s: str):\n",
        "    parts = re.split(r'(?<=[.!?])\\s+', s.strip())\n",
        "    return [p.strip() for p in parts if p.strip()]\n",
        "\n",
        "def mock_summarize(text: str) -> str:\n",
        "    # Naive: take top frequent content words and stitch 3 short sentences.\n",
        "    tokens = re.findall(r\"[a-z0-9']+\", text.lower())\n",
        "    stops = set('the a an of and to in for on with at by from is are was were be been being this that it as or if but'.split())\n",
        "    words = [t for t in tokens if t not in stops and len(t) > 2]\n",
        "    freq = [w for w,_ in Counter(words).most_common(6)]\n",
        "    sents = _sentences(text)\n",
        "    lead = sents[0] if sents else ''\n",
        "    tail = sents[1] if len(sents) > 1 else ''\n",
        "    gist = ', '.join(freq[:4]) if freq else 'key points'\n",
        "    out = [f\"The text discusses {gist}.\", lead[:120], tail[:120]]\n",
        "    return ' '.join([o for o in out if o])\n",
        "\n",
        "def mock_critique(text: str, summary: str) -> str:\n",
        "    # Heuristic checks: coverage (keywords), brevity, and potential hallucination markers.\n",
        "    toks_text = set(re.findall(r\"[a-z0-9']+\", text.lower()))\n",
        "    toks_sum = set(re.findall(r\"[a-z0-9']+\", summary.lower()))\n",
        "    coverage = len(toks_sum & toks_text) / (len(toks_sum) + 1e-9)\n",
        "    too_long = len(summary.split()) > max(60, len(text.split())//3)\n",
        "    made_up = any(w not in toks_text for w in ['guarantee','always','never']) and False  # placeholder example\n",
        "    notes = []\n",
        "    # Rubric scoring (rough, for demo)\n",
        "    relevance = 2 if coverage > 0.6 else (1 if coverage > 0.4 else 0)\n",
        "    coherence = 2 if summary.count('.') >= 2 else 1\n",
        "    accuracy = 2 if not made_up else 0\n",
        "    completeness = 1\n",
        "    clarity = 2 if not too_long else 1\n",
        "    notes.append(f\"Scores — Relevance:{relevance}/2 Coherence:{coherence}/2 Accuracy:{accuracy}/2 Completeness:{completeness}/2 Clarity:{clarity}/2\")\n",
        "    if too_long:\n",
        "        notes.append('Edit for brevity: target 3–5 concise sentences.')\n",
        "    # Suggest adding any top nouns present in text but absent in summary\n",
        "    common_in_text = [w for w,_ in Counter(re.findall(r'[a-z0-9']+', text.lower())).most_common(10)]\n",
        "    missing = [w for w in common_in_text if w not in toks_sum][:3]\n",
        "    if missing:\n",
        "        notes.append('Add missing specifics: ' + ', '.join(missing))\n",
        "    return '\\n'.join(notes)\n",
        "\n",
        "def mock_improve(text: str, summary: str, critique: str) -> str:\n",
        "    # Apply critique heuristics: shorten if long; append missing keywords.\n",
        "    sents = _sentences(summary)\n",
        "    sents = sents[:5]\n",
        "    body = ' '.join(sents)\n",
        "    # Add up to 2 suggested keywords\n",
        "    m = re.search(r'Add missing specifics:\\s*(.+)', critique)\n",
        "    if m:\n",
        "        adds = ','.split() if False else [w.strip() for w in m.group(1).split(',')][:2]\n",
        "        extra = ' '.join(adds)\n",
        "        if extra:\n",
        "            body = body + ' ' + f\"It also mentions {extra}.\"\n",
        "    return body"
      ]
    },
    {
      "cell_type": "markdown",
      "id": "4e19bb9a",
      "metadata": {
        "id": "4e19bb9a"
      },
      "source": [
        "## Orchestrator: Summary → Critique → Improved Summary"
      ]
    },
    {
      "cell_type": "code",
      "execution_count": null,
      "id": "51f49c75",
      "metadata": {
        "id": "51f49c75"
      },
      "outputs": [],
      "source": [
        "def run_self_reflection_chain(text: str) -> Dict[str, str]:\n",
        "    summary = mock_summarize(text)\n",
        "    critique = mock_critique(text, summary)\n",
        "    improved = mock_improve(text, summary, critique)\n",
        "    return {\n",
        "        'filled_summary_prompt': SUMMARY_PROMPT.format(text=text),\n",
        "        'model_summary': summary,\n",
        "        'filled_critique_prompt': CRITIQUE_PROMPT.format(text=text, summary=summary),\n",
        "        'model_critique': critique,\n",
        "        'filled_improve_prompt': IMPROVE_PROMPT.format(text=text, critique=critique),\n",
        "        'improved_summary': improved\n",
        "    }\n",
        "print('Chain ready: run_self_reflection_chain(text)')"
      ]
    },
    {
      "cell_type": "markdown",
      "id": "b458b308",
      "metadata": {
        "id": "b458b308"
      },
      "source": [
        "## Demo"
      ]
    },
    {
      "cell_type": "code",
      "execution_count": null,
      "id": "ad9310fb",
      "metadata": {
        "id": "ad9310fb"
      },
      "outputs": [],
      "source": [
        "sample_text = (\n",
        "    \"Our customer support team is updating shipping policies to reduce delays during peak seasons. \"\n",
        "    \"Orders may take up to five business days to arrive, and customers will receive proactive notifications. \"\n",
        "    \"We’re also adding weekend processing to speed fulfillment for priority orders.\"\n",
        ")\n",
        "out = run_self_reflection_chain(sample_text)\n",
        "print('--- MODEL SUMMARY ---')\n",
        "print(out['model_summary'])\n",
        "print('\\n--- CRITIQUE ---')\n",
        "print(out['model_critique'])\n",
        "print('\\n--- IMPROVED SUMMARY ---')\n",
        "print(out['improved_summary'])"
      ]
    }
  ],
  "metadata": {
    "colab": {
      "provenance": [],
      "include_colab_link": true
    }
  },
  "nbformat": 4,
  "nbformat_minor": 5
}